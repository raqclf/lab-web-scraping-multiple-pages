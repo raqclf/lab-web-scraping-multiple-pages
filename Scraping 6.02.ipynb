{
 "cells": [
  {
   "cell_type": "markdown",
   "id": "30d4a0d6",
   "metadata": {},
   "source": [
    "#### Find other lists of hot songs on the internet and scrape them too: having a bigger pool of songs will be awesome!\n",
    "#### Apply the same logic to other \"groups\" of songs: the best songs from a decade or from a country / culture / language / genre.\n",
    "#### Wikipedia maintains a large collection of lists of songs: https://en.wikipedia.org/wiki/Lists_of_songs"
   ]
  },
  {
   "cell_type": "code",
   "execution_count": 1,
   "id": "33791a7c",
   "metadata": {},
   "outputs": [],
   "source": [
    "from bs4 import BeautifulSoup\n",
    "import requests\n",
    "import pandas as pd"
   ]
  },
  {
   "cell_type": "code",
   "execution_count": 2,
   "id": "490b60ca",
   "metadata": {},
   "outputs": [],
   "source": [
    "url = \"https://de.wikipedia.org/wiki/Die_500_besten_Songs_aller_Zeiten_(Rolling_Stone)\""
   ]
  },
  {
   "cell_type": "code",
   "execution_count": 3,
   "id": "e88b4521",
   "metadata": {},
   "outputs": [
    {
     "data": {
      "text/plain": [
       "200"
      ]
     },
     "execution_count": 3,
     "metadata": {},
     "output_type": "execute_result"
    }
   ],
   "source": [
    "response = requests.get(url)\n",
    "response.status_code"
   ]
  },
  {
   "cell_type": "code",
   "execution_count": 4,
   "id": "368b6d56",
   "metadata": {},
   "outputs": [],
   "source": [
    "soup = BeautifulSoup(response.content, \"html.parser\")"
   ]
  },
  {
   "cell_type": "code",
   "execution_count": 5,
   "id": "fea477e7",
   "metadata": {},
   "outputs": [
    {
     "data": {
      "text/plain": [
       "[<td><a href=\"/wiki/Like_a_Rolling_Stone\" title=\"Like a Rolling Stone\">Like a Rolling Stone</a>\n",
       " </td>,\n",
       " <td><a href=\"/wiki/(I_Can%E2%80%99t_Get_No)_Satisfaction\" title=\"(I Can’t Get No) Satisfaction\">(I Can’t Get No) Satisfaction</a>\n",
       " </td>,\n",
       " <td><a href=\"/wiki/Imagine_(Lied)\" title=\"Imagine (Lied)\">Imagine</a>\n",
       " </td>,\n",
       " <td>What’s Going On\n",
       " </td>,\n",
       " <td><a href=\"/wiki/Respect_(Lied)\" title=\"Respect (Lied)\">Respect</a>\n",
       " </td>,\n",
       " <td><a href=\"/wiki/Good_Vibrations\" title=\"Good Vibrations\">Good Vibrations</a>\n",
       " </td>,\n",
       " <td><a href=\"/wiki/Johnny_B._Goode\" title=\"Johnny B. Goode\">Johnny B. Goode</a>\n",
       " </td>,\n",
       " <td><a href=\"/wiki/Hey_Jude\" title=\"Hey Jude\">Hey Jude</a>\n",
       " </td>,\n",
       " <td><a href=\"/wiki/Smells_Like_Teen_Spirit\" title=\"Smells Like Teen Spirit\">Smells Like Teen Spirit</a>\n",
       " </td>,\n",
       " <td><a href=\"/wiki/What%E2%80%99d_I_Say\" title=\"What’d I Say\">What’d I Say</a>\n",
       " </td>,\n",
       " <td><a href=\"/wiki/My_Generation_(Lied)\" title=\"My Generation (Lied)\">My Generation</a>\n",
       " </td>,\n",
       " <td><a href=\"/wiki/A_Change_Is_Gonna_Come\" title=\"A Change Is Gonna Come\">A Change Is Gonna Come</a>\n",
       " </td>,\n",
       " <td><a href=\"/wiki/Yesterday\" title=\"Yesterday\">Yesterday</a>\n",
       " </td>,\n",
       " <td><a href=\"/wiki/Blowin%E2%80%99_in_the_Wind\" title=\"Blowin’ in the Wind\">Blowin’ in the Wind</a>\n",
       " </td>,\n",
       " <td><a href=\"/wiki/London_Calling_(Lied)\" title=\"London Calling (Lied)\">London Calling</a>\n",
       " </td>,\n",
       " <td><a href=\"/wiki/I_Want_to_Hold_Your_Hand\" title=\"I Want to Hold Your Hand\">I Want to Hold Your Hand</a>\n",
       " </td>,\n",
       " <td><a href=\"/wiki/Purple_Haze_(Lied)\" title=\"Purple Haze (Lied)\">Purple Haze</a>\n",
       " </td>,\n",
       " <td>Maybellene\n",
       " </td>,\n",
       " <td><a href=\"/wiki/Hound_Dog\" title=\"Hound Dog\">Hound Dog</a>\n",
       " </td>,\n",
       " <td><a href=\"/wiki/Let_It_Be_(Lied)\" title=\"Let It Be (Lied)\">Let It Be</a>\n",
       " </td>,\n",
       " <td><a href=\"/wiki/Born_to_Run_(Lied)\" title=\"Born to Run (Lied)\">Born to Run</a>\n",
       " </td>,\n",
       " <td><a href=\"/wiki/Be_My_Baby\" title=\"Be My Baby\">Be My Baby</a>\n",
       " </td>,\n",
       " <td><a href=\"/wiki/In_My_Life\" title=\"In My Life\">In My Life</a>\n",
       " </td>,\n",
       " <td>People Get Ready\n",
       " </td>,\n",
       " <td><a href=\"/wiki/God_Only_Knows\" title=\"God Only Knows\">God Only Knows</a>\n",
       " </td>,\n",
       " <td><a href=\"/wiki/(Sittin%E2%80%99_On)_The_Dock_of_the_Bay\" title=\"(Sittin’ On) The Dock of the Bay\">(Sittin’ On) The Dock of the Bay</a>\n",
       " </td>,\n",
       " <td><a href=\"/wiki/Layla_(Lied)\" title=\"Layla (Lied)\">Layla</a>\n",
       " </td>,\n",
       " <td><a href=\"/wiki/A_Day_in_the_Life\" title=\"A Day in the Life\">A Day in the Life</a>\n",
       " </td>,\n",
       " <td><a href=\"/wiki/Help!_(Lied)\" title=\"Help! (Lied)\">Help!</a>\n",
       " </td>,\n",
       " <td><a href=\"/wiki/I_Walk_the_Line\" title=\"I Walk the Line\">I Walk the Line</a>\n",
       " </td>,\n",
       " <td><a href=\"/wiki/Stairway_to_Heaven\" title=\"Stairway to Heaven\">Stairway to Heaven</a>\n",
       " </td>,\n",
       " <td><a href=\"/wiki/Sympathy_for_the_Devil\" title=\"Sympathy for the Devil\">Sympathy for the Devil</a>\n",
       " </td>,\n",
       " <td>River Deep – Mountain High\n",
       " </td>,\n",
       " <td><a href=\"/wiki/You%E2%80%99ve_Lost_That_Lovin%E2%80%99_Feelin%E2%80%99\" title=\"You’ve Lost That Lovin’ Feelin’\">You’ve Lost That Lovin’ Feelin’</a>\n",
       " </td>,\n",
       " <td><a href=\"/wiki/Light_My_Fire\" title=\"Light My Fire\">Light My Fire</a>\n",
       " </td>,\n",
       " <td><a href=\"/wiki/One_(U2-Lied)\" title=\"One (U2-Lied)\">One</a>\n",
       " </td>,\n",
       " <td><a href=\"/wiki/No_Woman,_No_Cry\" title=\"No Woman, No Cry\">No Woman, No Cry</a>\n",
       " </td>,\n",
       " <td><a href=\"/wiki/Gimme_Shelter_(Lied)\" title=\"Gimme Shelter (Lied)\">Gimme Shelter</a>\n",
       " </td>,\n",
       " <td>That’ll Be the Day\n",
       " </td>,\n",
       " <td><a href=\"/wiki/Dancing_in_the_Street\" title=\"Dancing in the Street\">Dancing in the Street</a>\n",
       " </td>,\n",
       " <td><a href=\"/wiki/The_Weight_(Lied)\" title=\"The Weight (Lied)\">The Weight</a>\n",
       " </td>,\n",
       " <td><a href=\"/wiki/Waterloo_Sunset\" title=\"Waterloo Sunset\">Waterloo Sunset</a>\n",
       " </td>,\n",
       " <td><a href=\"/wiki/Tutti_Frutti_(Lied)\" title=\"Tutti Frutti (Lied)\">Tutti-Frutti</a>\n",
       " </td>,\n",
       " <td><a href=\"/wiki/Georgia_on_My_Mind\" title=\"Georgia on My Mind\">Georgia on My Mind</a>\n",
       " </td>,\n",
       " <td><a href=\"/wiki/Heartbreak_Hotel_(Elvis-Presley-Lied)\" title=\"Heartbreak Hotel (Elvis-Presley-Lied)\">Heartbreak Hotel</a>\n",
       " </td>,\n",
       " <td><a href=\"/wiki/%E2%80%9CHeroes%E2%80%9D_(Lied)\" title=\"“Heroes” (Lied)\">\"Heroes\"</a>\n",
       " </td>,\n",
       " <td><a href=\"/wiki/All_Along_the_Watchtower\" title=\"All Along the Watchtower\">All Along the Watchtower</a>\n",
       " </td>,\n",
       " <td><a href=\"/wiki/Bridge_over_Troubled_Water_(Lied)\" title=\"Bridge over Troubled Water (Lied)\">Bridge over Troubled Water</a>\n",
       " </td>,\n",
       " <td><a href=\"/wiki/Hotel_California\" title=\"Hotel California\">Hotel California</a>\n",
       " </td>,\n",
       " <td>The Tracks of My Tears\n",
       " </td>,\n",
       " <td><a href=\"/wiki/The_Message\" title=\"The Message\">The Message</a>\n",
       " </td>,\n",
       " <td><a href=\"/wiki/When_Doves_Cry\" title=\"When Doves Cry\">When Doves Cry</a>\n",
       " </td>,\n",
       " <td><a href=\"/wiki/When_a_Man_Loves_a_Woman_(Lied)\" title=\"When a Man Loves a Woman (Lied)\">When a Man Loves a Woman</a>\n",
       " </td>,\n",
       " <td><a href=\"/wiki/Louie_Louie\" title=\"Louie Louie\">Louie Louie</a>\n",
       " </td>,\n",
       " <td><a href=\"/wiki/Long_Tall_Sally\" title=\"Long Tall Sally\">Long Tall Sally</a>\n",
       " </td>,\n",
       " <td><a href=\"/wiki/Anarchy_in_the_U._K.\" title=\"Anarchy in the U. K.\">Anarchy in the U. K.</a>\n",
       " </td>,\n",
       " <td><a href=\"/wiki/A_Whiter_Shade_of_Pale\" title=\"A Whiter Shade of Pale\">A Whiter Shade of Pale</a>\n",
       " </td>,\n",
       " <td><a href=\"/wiki/Billie_Jean\" title=\"Billie Jean\">Billie Jean</a>\n",
       " </td>,\n",
       " <td><a href=\"/wiki/The_Times_They_Are_a-Changin%E2%80%99\" title=\"The Times They Are a-Changin’\">The Times They Are a-Changin’</a>\n",
       " </td>,\n",
       " <td><a href=\"/wiki/Let%E2%80%99s_Stay_Together\" title=\"Let’s Stay Together\">Let’s Stay Together</a>\n",
       " </td>,\n",
       " <td><a href=\"/wiki/Whole_Lotta_Shakin%E2%80%99_Goin%E2%80%99_On\" title=\"Whole Lotta Shakin’ Goin’ On\">Whole Lotta Shakin’ Goin’ On</a>\n",
       " </td>,\n",
       " <td>Bo Diddley\n",
       " </td>,\n",
       " <td>For What It’s Worth\n",
       " </td>,\n",
       " <td><a href=\"/wiki/She_Loves_You\" title=\"She Loves You\">She Loves You</a>\n",
       " </td>,\n",
       " <td><a href=\"/wiki/Sunshine_of_Your_Love\" title=\"Sunshine of Your Love\">Sunshine of Your Love</a>\n",
       " </td>,\n",
       " <td><a href=\"/wiki/Redemption_Song\" title=\"Redemption Song\">Redemption Song</a>\n",
       " </td>,\n",
       " <td><a href=\"/wiki/Jailhouse_Rock\" title=\"Jailhouse Rock\">Jailhouse Rock</a>\n",
       " </td>,\n",
       " <td><a href=\"/wiki/Tangled_Up_in_Blue\" title=\"Tangled Up in Blue\">Tangled Up in Blue</a>\n",
       " </td>,\n",
       " <td>Crying\n",
       " </td>,\n",
       " <td>Walk On By\n",
       " </td>,\n",
       " <td><a href=\"/wiki/Papa%E2%80%99s_Got_a_Brand_New_Bag\" title=\"Papa’s Got a Brand New Bag\">Papa’s Got a Brand New Bag</a>\n",
       " </td>,\n",
       " <td><a href=\"/wiki/California_Girls\" title=\"California Girls\">California Girls</a>\n",
       " </td>,\n",
       " <td><a href=\"/wiki/Superstition_(Lied)\" title=\"Superstition (Lied)\">Superstition</a>\n",
       " </td>,\n",
       " <td><a href=\"/wiki/Summertime_Blues_(Lied)\" title=\"Summertime Blues (Lied)\">Summertime Blues</a>\n",
       " </td>,\n",
       " <td><a href=\"/wiki/Whole_Lotta_Love\" title=\"Whole Lotta Love\">Whole Lotta Love</a>\n",
       " </td>,\n",
       " <td><a href=\"/wiki/Strawberry_Fields_Forever\" title=\"Strawberry Fields Forever\">Strawberry Fields Forever</a>\n",
       " </td>,\n",
       " <td>Mystery Train\n",
       " </td>,\n",
       " <td><a href=\"/wiki/I_Got_You_(I_Feel_Good)\" title=\"I Got You (I Feel Good)\">I Got You (I Feel Good)</a>\n",
       " </td>,\n",
       " <td><a href=\"/wiki/Mr._Tambourine_Man\" title=\"Mr. Tambourine Man\">Mr. Tambourine Man</a>\n",
       " </td>,\n",
       " <td><a href=\"/wiki/You_Really_Got_Me\" title=\"You Really Got Me\">You Really Got Me</a>\n",
       " </td>,\n",
       " <td><a href=\"/wiki/I_Heard_It_Through_the_Grapevine\" title=\"I Heard It Through the Grapevine\">I Heard It Through the Grapevine</a>\n",
       " </td>,\n",
       " <td><a href=\"/wiki/Blueberry_Hill\" title=\"Blueberry Hill\">Blueberry Hill</a>\n",
       " </td>,\n",
       " <td><a href=\"/wiki/Norwegian_Wood_(This_Bird_Has_Flown)\" title=\"Norwegian Wood (This Bird Has Flown)\">Norwegian Wood (This Bird Has Flown)</a>\n",
       " </td>,\n",
       " <td><a href=\"/wiki/Every_Breath_You_Take\" title=\"Every Breath You Take\">Every Breath You Take</a>\n",
       " </td>,\n",
       " <td><a href=\"/wiki/Crazy_(Willie-Nelson-Lied)\" title=\"Crazy (Willie-Nelson-Lied)\">Crazy</a>\n",
       " </td>,\n",
       " <td><a href=\"/wiki/Thunder_Road_(Lied)\" title=\"Thunder Road (Lied)\">Thunder Road</a>\n",
       " </td>,\n",
       " <td><a href=\"/wiki/Ring_of_Fire_(Lied)\" title=\"Ring of Fire (Lied)\">Ring of Fire</a>\n",
       " </td>,\n",
       " <td><a href=\"/wiki/My_Girl_(Lied)\" title=\"My Girl (Lied)\">My Girl</a>\n",
       " </td>,\n",
       " <td><a href=\"/wiki/California_Dreamin%E2%80%99\" title=\"California Dreamin’\">California Dreamin’</a>\n",
       " </td>,\n",
       " <td>In the Still of the Night\n",
       " </td>,\n",
       " <td><a href=\"/wiki/Suspicious_Minds\" title=\"Suspicious Minds\">Suspicious Minds</a>\n",
       " </td>,\n",
       " <td><a href=\"/wiki/Ramones_(Album)#Blitzkrieg_Bop\" title=\"Ramones (Album)\">Blitzkrieg Bop</a>\n",
       " </td>,\n",
       " <td><a href=\"/wiki/I_Still_Haven%E2%80%99t_Found_What_I%E2%80%99m_Looking_For\" title=\"I Still Haven’t Found What I’m Looking For\">I Still Haven’t Found What I’m Looking For</a>\n",
       " </td>,\n",
       " <td>Good Golly, Miss Molly\n",
       " </td>,\n",
       " <td><a href=\"/wiki/Blue_Suede_Shoes\" title=\"Blue Suede Shoes\">Blue Suede Shoes</a>\n",
       " </td>,\n",
       " <td><a href=\"/wiki/Great_Balls_of_Fire_(Lied)\" title=\"Great Balls of Fire (Lied)\">Great Balls of Fire</a>\n",
       " </td>,\n",
       " <td><a href=\"/wiki/Roll_Over_Beethoven\" title=\"Roll Over Beethoven\">Roll Over Beethoven</a>\n",
       " </td>,\n",
       " <td>Love and Happiness\n",
       " </td>,\n",
       " <td>Fortunate Son\n",
       " </td>,\n",
       " <td>Crazy\n",
       " </td>,\n",
       " <td>You Can’t Always Get What You Want\n",
       " </td>]"
      ]
     },
     "execution_count": 5,
     "metadata": {},
     "output_type": "execute_result"
    }
   ],
   "source": [
    "soup.select(\"table\")\n",
    "\n",
    "soup.select(\"td:nth-child(3)\")"
   ]
  },
  {
   "cell_type": "code",
   "execution_count": 6,
   "id": "d1ea6ff7",
   "metadata": {},
   "outputs": [
    {
     "name": "stdout",
     "output_type": "stream",
     "text": [
      "['Like a Rolling Stone\\n', '(I Can’t Get No) Satisfaction\\n', 'Imagine\\n', 'What’s Going On\\n', 'Respect\\n', 'Good Vibrations\\n', 'Johnny B. Goode\\n', 'Hey Jude\\n', 'Smells Like Teen Spirit\\n', 'What’d I Say\\n', 'My Generation\\n', 'A Change Is Gonna Come\\n', 'Yesterday\\n', 'Blowin’ in the Wind\\n', 'London Calling\\n', 'I Want to Hold Your Hand\\n', 'Purple Haze\\n', 'Maybellene\\n', 'Hound Dog\\n', 'Let It Be\\n', 'Born to Run\\n', 'Be My Baby\\n', 'In My Life\\n', 'People Get Ready\\n', 'God Only Knows\\n', '(Sittin’ On) The Dock of the Bay\\n', 'Layla\\n', 'A Day in the Life\\n', 'Help!\\n', 'I Walk the Line\\n', 'Stairway to Heaven\\n', 'Sympathy for the Devil\\n', 'River Deep – Mountain High\\n', 'You’ve Lost That Lovin’ Feelin’\\n', 'Light My Fire\\n', 'One\\n', 'No Woman, No Cry\\n', 'Gimme Shelter\\n', 'That’ll Be the Day\\n', 'Dancing in the Street\\n', 'The Weight\\n', 'Waterloo Sunset\\n', 'Tutti-Frutti\\n', 'Georgia on My Mind\\n', 'Heartbreak Hotel\\n', '\"Heroes\"\\n', 'All Along the Watchtower\\n', 'Bridge over Troubled Water\\n', 'Hotel California\\n', 'The Tracks of My Tears\\n', 'The Message\\n', 'When Doves Cry\\n', 'When a Man Loves a Woman\\n', 'Louie Louie\\n', 'Long Tall Sally\\n', 'Anarchy in the U. K.\\n', 'A Whiter Shade of Pale\\n', 'Billie Jean\\n', 'The Times They Are a-Changin’\\n', 'Let’s Stay Together\\n', 'Whole Lotta Shakin’ Goin’ On\\n', 'Bo Diddley\\n', 'For What It’s Worth\\n', 'She Loves You\\n', 'Sunshine of Your Love\\n', 'Redemption Song\\n', 'Jailhouse Rock\\n', 'Tangled Up in Blue\\n', 'Crying\\n', 'Walk On By\\n', 'Papa’s Got a Brand New Bag\\n', 'California Girls\\n', 'Superstition\\n', 'Summertime Blues\\n', 'Whole Lotta Love\\n', 'Strawberry Fields Forever\\n', 'Mystery Train\\n', 'I Got You (I Feel Good)\\n', 'Mr. Tambourine Man\\n', 'You Really Got Me\\n', 'I Heard It Through the Grapevine\\n', 'Blueberry Hill\\n', 'Norwegian Wood (This Bird Has Flown)\\n', 'Every Breath You Take\\n', 'Crazy\\n', 'Thunder Road\\n', 'Ring of Fire\\n', 'My Girl\\n', 'California Dreamin’\\n', 'In the Still of the Night\\n', 'Suspicious Minds\\n', 'Blitzkrieg Bop\\n', 'I Still Haven’t Found What I’m Looking For\\n', 'Good Golly, Miss Molly\\n', 'Blue Suede Shoes\\n', 'Great Balls of Fire\\n', 'Roll Over Beethoven\\n', 'Love and Happiness\\n', 'Fortunate Son\\n', 'Crazy\\n', 'You Can’t Always Get What You Want\\n']\n"
     ]
    },
    {
     "data": {
      "text/plain": [
       "101"
      ]
     },
     "execution_count": 6,
     "metadata": {},
     "output_type": "execute_result"
    }
   ],
   "source": [
    "titles = []\n",
    "num = len(soup.select(\"td:nth-child(3)\"))\n",
    "for i in range(num):\n",
    "    titles.append(soup.select(\"td:nth-child(3)\")[i].get_text())\n",
    "print(titles)\n",
    "len(titles)"
   ]
  },
  {
   "cell_type": "code",
   "execution_count": 7,
   "id": "b4da1167",
   "metadata": {},
   "outputs": [
    {
     "data": {
      "text/plain": [
       "[<td><a href=\"/wiki/Bob_Dylan\" title=\"Bob Dylan\">Bob Dylan</a>\n",
       " </td>,\n",
       " <td><a href=\"/wiki/The_Rolling_Stones\" title=\"The Rolling Stones\">The Rolling Stones</a>\n",
       " </td>,\n",
       " <td><a href=\"/wiki/John_Lennon\" title=\"John Lennon\">John Lennon</a>\n",
       " </td>,\n",
       " <td><a href=\"/wiki/Marvin_Gaye\" title=\"Marvin Gaye\">Marvin Gaye</a>\n",
       " </td>,\n",
       " <td><a href=\"/wiki/Aretha_Franklin\" title=\"Aretha Franklin\">Aretha Franklin</a>\n",
       " </td>,\n",
       " <td><a href=\"/wiki/The_Beach_Boys\" title=\"The Beach Boys\">The Beach Boys</a>\n",
       " </td>,\n",
       " <td><a href=\"/wiki/Chuck_Berry\" title=\"Chuck Berry\">Chuck Berry</a>\n",
       " </td>,\n",
       " <td><a href=\"/wiki/The_Beatles\" title=\"The Beatles\">The Beatles</a>\n",
       " </td>,\n",
       " <td><a href=\"/wiki/Nirvana_(US-amerikanische_Band)\" title=\"Nirvana (US-amerikanische Band)\">Nirvana</a>\n",
       " </td>,\n",
       " <td><a href=\"/wiki/Ray_Charles\" title=\"Ray Charles\">Ray Charles</a>\n",
       " </td>,\n",
       " <td><a href=\"/wiki/The_Who\" title=\"The Who\">The Who</a>\n",
       " </td>,\n",
       " <td><a href=\"/wiki/Sam_Cooke\" title=\"Sam Cooke\">Sam Cooke</a>\n",
       " </td>,\n",
       " <td><a href=\"/wiki/The_Beatles\" title=\"The Beatles\">The Beatles</a>\n",
       " </td>,\n",
       " <td><a href=\"/wiki/Bob_Dylan\" title=\"Bob Dylan\">Bob Dylan</a>\n",
       " </td>,\n",
       " <td><a href=\"/wiki/The_Clash\" title=\"The Clash\">The Clash</a>\n",
       " </td>,\n",
       " <td><a href=\"/wiki/The_Beatles\" title=\"The Beatles\">The Beatles</a>\n",
       " </td>,\n",
       " <td><a href=\"/wiki/Jimi_Hendrix\" title=\"Jimi Hendrix\">The Jimi Hendrix Experience</a>\n",
       " </td>,\n",
       " <td><a href=\"/wiki/Chuck_Berry\" title=\"Chuck Berry\">Chuck Berry</a>\n",
       " </td>,\n",
       " <td><a href=\"/wiki/Elvis_Presley\" title=\"Elvis Presley\">Elvis Presley</a>\n",
       " </td>,\n",
       " <td><a href=\"/wiki/The_Beatles\" title=\"The Beatles\">The Beatles</a>\n",
       " </td>,\n",
       " <td><a href=\"/wiki/Bruce_Springsteen\" title=\"Bruce Springsteen\">Bruce Springsteen</a>\n",
       " </td>,\n",
       " <td><a href=\"/wiki/The_Ronettes\" title=\"The Ronettes\">The Ronettes</a>\n",
       " </td>,\n",
       " <td><a href=\"/wiki/The_Beatles\" title=\"The Beatles\">The Beatles</a>\n",
       " </td>,\n",
       " <td><a href=\"/wiki/The_Impressions\" title=\"The Impressions\">The Impressions</a>\n",
       " </td>,\n",
       " <td><a href=\"/wiki/The_Beach_Boys\" title=\"The Beach Boys\">The Beach Boys</a>\n",
       " </td>,\n",
       " <td><a href=\"/wiki/Otis_Redding\" title=\"Otis Redding\">Otis Redding</a>\n",
       " </td>,\n",
       " <td><a href=\"/wiki/Derek_and_the_Dominos\" title=\"Derek and the Dominos\">Derek and the Dominos</a>\n",
       " </td>,\n",
       " <td><a href=\"/wiki/The_Beatles\" title=\"The Beatles\">The Beatles</a>\n",
       " </td>,\n",
       " <td><a href=\"/wiki/The_Beatles\" title=\"The Beatles\">The Beatles</a>\n",
       " </td>,\n",
       " <td><a href=\"/wiki/Johnny_Cash\" title=\"Johnny Cash\">Johnny Cash</a>\n",
       " </td>,\n",
       " <td><a href=\"/wiki/Led_Zeppelin\" title=\"Led Zeppelin\">Led Zeppelin</a>\n",
       " </td>,\n",
       " <td><a href=\"/wiki/The_Rolling_Stones\" title=\"The Rolling Stones\">The Rolling Stones</a>\n",
       " </td>,\n",
       " <td><a href=\"/wiki/Ike_%26_Tina_Turner\" title=\"Ike &amp; Tina Turner\">Ike &amp; Tina Turner</a>\n",
       " </td>,\n",
       " <td><a href=\"/wiki/The_Righteous_Brothers\" title=\"The Righteous Brothers\">The Righteous Brothers</a>\n",
       " </td>,\n",
       " <td><a href=\"/wiki/The_Doors\" title=\"The Doors\">The Doors</a>\n",
       " </td>,\n",
       " <td><a href=\"/wiki/U2_(Band)\" title=\"U2 (Band)\">U2</a>\n",
       " </td>,\n",
       " <td><a href=\"/wiki/Bob_Marley\" title=\"Bob Marley\">Bob Marley</a>\n",
       " </td>,\n",
       " <td><a href=\"/wiki/The_Rolling_Stones\" title=\"The Rolling Stones\">The Rolling Stones</a>\n",
       " </td>,\n",
       " <td><a href=\"/wiki/Buddy_Holly\" title=\"Buddy Holly\">Buddy Holly</a> and <a href=\"/wiki/The_Crickets\" title=\"The Crickets\">the Crickets</a>\n",
       " </td>,\n",
       " <td><a href=\"/wiki/Martha_%26_the_Vandellas\" title=\"Martha &amp; the Vandellas\">Martha Reeves and the Vandellas</a>\n",
       " </td>,\n",
       " <td><a href=\"/wiki/The_Band\" title=\"The Band\">The Band</a>\n",
       " </td>,\n",
       " <td><a href=\"/wiki/The_Kinks\" title=\"The Kinks\">The Kinks</a>\n",
       " </td>,\n",
       " <td><a href=\"/wiki/Little_Richard\" title=\"Little Richard\">Little Richard</a>\n",
       " </td>,\n",
       " <td><a href=\"/wiki/Ray_Charles\" title=\"Ray Charles\">Ray Charles</a>\n",
       " </td>,\n",
       " <td><a href=\"/wiki/Elvis_Presley\" title=\"Elvis Presley\">Elvis Presley</a>\n",
       " </td>,\n",
       " <td><a href=\"/wiki/David_Bowie\" title=\"David Bowie\">David Bowie</a>\n",
       " </td>,\n",
       " <td><a href=\"/wiki/Jimi_Hendrix\" title=\"Jimi Hendrix\">The Jimi Hendrix Experience</a>\n",
       " </td>,\n",
       " <td><a href=\"/wiki/Simon_%26_Garfunkel\" title=\"Simon &amp; Garfunkel\">Simon &amp; Garfunkel</a>\n",
       " </td>,\n",
       " <td><a href=\"/wiki/Eagles\" title=\"Eagles\">The Eagles</a>\n",
       " </td>,\n",
       " <td><a href=\"/wiki/Smokey_Robinson\" title=\"Smokey Robinson\">Smokey Robinson</a> and <a href=\"/wiki/The_Miracles\" title=\"The Miracles\">the Miracles</a>\n",
       " </td>,\n",
       " <td><a href=\"/wiki/Grandmaster_Flash_%26_the_Furious_Five\" title=\"Grandmaster Flash &amp; the Furious Five\">Grandmaster Flash &amp; the Furious Five</a>\n",
       " </td>,\n",
       " <td><a href=\"/wiki/Prince\" title=\"Prince\">Prince</a>\n",
       " </td>,\n",
       " <td><a href=\"/wiki/Percy_Sledge\" title=\"Percy Sledge\">Percy Sledge</a>\n",
       " </td>,\n",
       " <td><a href=\"/wiki/The_Kingsmen\" title=\"The Kingsmen\">The Kingsmen</a>\n",
       " </td>,\n",
       " <td><a href=\"/wiki/Little_Richard\" title=\"Little Richard\">Little Richard</a>\n",
       " </td>,\n",
       " <td><a href=\"/wiki/Sex_Pistols\" title=\"Sex Pistols\">Sex Pistols</a>\n",
       " </td>,\n",
       " <td><a href=\"/wiki/Procol_Harum\" title=\"Procol Harum\">Procol Harum</a>\n",
       " </td>,\n",
       " <td><a href=\"/wiki/Michael_Jackson\" title=\"Michael Jackson\">Michael Jackson</a>\n",
       " </td>,\n",
       " <td><a href=\"/wiki/Bob_Dylan\" title=\"Bob Dylan\">Bob Dylan</a>\n",
       " </td>,\n",
       " <td><a href=\"/wiki/Al_Green\" title=\"Al Green\">Al Green</a>\n",
       " </td>,\n",
       " <td><a href=\"/wiki/Jerry_Lee_Lewis\" title=\"Jerry Lee Lewis\">Jerry Lee Lewis</a>\n",
       " </td>,\n",
       " <td><a href=\"/wiki/Bo_Diddley\" title=\"Bo Diddley\">Bo Diddley</a>\n",
       " </td>,\n",
       " <td><a href=\"/wiki/Buffalo_Springfield\" title=\"Buffalo Springfield\">Buffalo Springfield</a>\n",
       " </td>,\n",
       " <td><a href=\"/wiki/The_Beatles\" title=\"The Beatles\">The Beatles</a>\n",
       " </td>,\n",
       " <td><a href=\"/wiki/Cream\" title=\"Cream\">Cream</a>\n",
       " </td>,\n",
       " <td><a href=\"/wiki/The_Wailers\" title=\"The Wailers\">Bob Marley and the Wailers</a>\n",
       " </td>,\n",
       " <td><a href=\"/wiki/Elvis_Presley\" title=\"Elvis Presley\">Elvis Presley</a>\n",
       " </td>,\n",
       " <td><a href=\"/wiki/Bob_Dylan\" title=\"Bob Dylan\">Bob Dylan</a>\n",
       " </td>,\n",
       " <td><a href=\"/wiki/Roy_Orbison\" title=\"Roy Orbison\">Roy Orbison</a>\n",
       " </td>,\n",
       " <td><a href=\"/wiki/Dionne_Warwick\" title=\"Dionne Warwick\">Dionne Warwick</a>\n",
       " </td>,\n",
       " <td><a href=\"/wiki/James_Brown\" title=\"James Brown\">James Brown</a>\n",
       " </td>,\n",
       " <td><a href=\"/wiki/The_Beach_Boys\" title=\"The Beach Boys\">The Beach Boys</a>\n",
       " </td>,\n",
       " <td><a href=\"/wiki/Stevie_Wonder\" title=\"Stevie Wonder\">Stevie Wonder</a>\n",
       " </td>,\n",
       " <td><a href=\"/wiki/Eddie_Cochran\" title=\"Eddie Cochran\">Eddie Cochran</a>\n",
       " </td>,\n",
       " <td><a href=\"/wiki/Led_Zeppelin\" title=\"Led Zeppelin\">Led Zeppelin</a>\n",
       " </td>,\n",
       " <td><a href=\"/wiki/The_Beatles\" title=\"The Beatles\">The Beatles</a>\n",
       " </td>,\n",
       " <td><a href=\"/wiki/Elvis_Presley\" title=\"Elvis Presley\">Elvis Presley</a>\n",
       " </td>,\n",
       " <td><a href=\"/wiki/James_Brown\" title=\"James Brown\">James Brown</a>\n",
       " </td>,\n",
       " <td><a href=\"/wiki/The_Byrds\" title=\"The Byrds\">The Byrds</a>\n",
       " </td>,\n",
       " <td><a href=\"/wiki/The_Kinks\" title=\"The Kinks\">The Kinks</a>\n",
       " </td>,\n",
       " <td><a href=\"/wiki/Marvin_Gaye\" title=\"Marvin Gaye\">Marvin Gaye</a>\n",
       " </td>,\n",
       " <td><a href=\"/wiki/Fats_Domino\" title=\"Fats Domino\">Fats Domino</a>\n",
       " </td>,\n",
       " <td><a href=\"/wiki/The_Beatles\" title=\"The Beatles\">The Beatles</a>\n",
       " </td>,\n",
       " <td><a href=\"/wiki/The_Police\" title=\"The Police\">The Police</a>\n",
       " </td>,\n",
       " <td><a href=\"/wiki/Patsy_Cline\" title=\"Patsy Cline\">Patsy Cline</a>\n",
       " </td>,\n",
       " <td><a href=\"/wiki/Bruce_Springsteen\" title=\"Bruce Springsteen\">Bruce Springsteen</a>\n",
       " </td>,\n",
       " <td><a href=\"/wiki/Johnny_Cash\" title=\"Johnny Cash\">Johnny Cash</a>\n",
       " </td>,\n",
       " <td><a href=\"/wiki/The_Temptations\" title=\"The Temptations\">The Temptations</a>\n",
       " </td>,\n",
       " <td><a href=\"/wiki/The_Mamas_and_the_Papas\" title=\"The Mamas and the Papas\">The Mamas and the Papas</a>\n",
       " </td>,\n",
       " <td><a href=\"/wiki/The_Five_Satins\" title=\"The Five Satins\">The Five Satins</a>\n",
       " </td>,\n",
       " <td><a href=\"/wiki/Elvis_Presley\" title=\"Elvis Presley\">Elvis Presley</a>\n",
       " </td>,\n",
       " <td><a href=\"/wiki/Ramones\" title=\"Ramones\">Ramones</a>\n",
       " </td>,\n",
       " <td><a href=\"/wiki/U2_(Band)\" title=\"U2 (Band)\">U2</a>\n",
       " </td>,\n",
       " <td><a href=\"/wiki/Little_Richard\" title=\"Little Richard\">Little Richard</a>\n",
       " </td>,\n",
       " <td><a href=\"/wiki/Carl_Perkins\" title=\"Carl Perkins\">Carl Perkins</a>\n",
       " </td>,\n",
       " <td><a href=\"/wiki/Jerry_Lee_Lewis\" title=\"Jerry Lee Lewis\">Jerry Lee Lewis</a>\n",
       " </td>,\n",
       " <td><a href=\"/wiki/Chuck_Berry\" title=\"Chuck Berry\">Chuck Berry</a>\n",
       " </td>,\n",
       " <td><a href=\"/wiki/Al_Green\" title=\"Al Green\">Al Green</a>\n",
       " </td>,\n",
       " <td><a href=\"/wiki/Creedence_Clearwater_Revival\" title=\"Creedence Clearwater Revival\">Creedence Clearwater Revival</a>\n",
       " </td>,\n",
       " <td><a href=\"/wiki/Gnarls_Barkley\" title=\"Gnarls Barkley\">Gnarls Barkley</a>\n",
       " </td>,\n",
       " <td><a href=\"/wiki/The_Rolling_Stones\" title=\"The Rolling Stones\">The Rolling Stones</a>\n",
       " </td>]"
      ]
     },
     "execution_count": 7,
     "metadata": {},
     "output_type": "execute_result"
    }
   ],
   "source": [
    "soup.select(\"td:nth-child(4)\")"
   ]
  },
  {
   "cell_type": "code",
   "execution_count": 8,
   "id": "172c53b3",
   "metadata": {},
   "outputs": [
    {
     "name": "stdout",
     "output_type": "stream",
     "text": [
      "['Bob Dylan\\n', 'The Rolling Stones\\n', 'John Lennon\\n', 'Marvin Gaye\\n', 'Aretha Franklin\\n', 'The Beach Boys\\n', 'Chuck Berry\\n', 'The Beatles\\n', 'Nirvana\\n', 'Ray Charles\\n', 'The Who\\n', 'Sam Cooke\\n', 'The Beatles\\n', 'Bob Dylan\\n', 'The Clash\\n', 'The Beatles\\n', 'The Jimi Hendrix Experience\\n', 'Chuck Berry\\n', 'Elvis Presley\\n', 'The Beatles\\n', 'Bruce Springsteen\\n', 'The Ronettes\\n', 'The Beatles\\n', 'The Impressions\\n', 'The Beach Boys\\n', 'Otis Redding\\n', 'Derek and the Dominos\\n', 'The Beatles\\n', 'The Beatles\\n', 'Johnny Cash\\n', 'Led Zeppelin\\n', 'The Rolling Stones\\n', 'Ike & Tina Turner\\n', 'The Righteous Brothers\\n', 'The Doors\\n', 'U2\\n', 'Bob Marley\\n', 'The Rolling Stones\\n', 'Buddy Holly and the Crickets\\n', 'Martha Reeves and the Vandellas\\n', 'The Band\\n', 'The Kinks\\n', 'Little Richard\\n', 'Ray Charles\\n', 'Elvis Presley\\n', 'David Bowie\\n', 'The Jimi Hendrix Experience\\n', 'Simon & Garfunkel\\n', 'The Eagles\\n', 'Smokey Robinson and the Miracles\\n', 'Grandmaster Flash & the Furious Five\\n', 'Prince\\n', 'Percy Sledge\\n', 'The Kingsmen\\n', 'Little Richard\\n', 'Sex Pistols\\n', 'Procol Harum\\n', 'Michael Jackson\\n', 'Bob Dylan\\n', 'Al Green\\n', 'Jerry Lee Lewis\\n', 'Bo Diddley\\n', 'Buffalo Springfield\\n', 'The Beatles\\n', 'Cream\\n', 'Bob Marley and the Wailers\\n', 'Elvis Presley\\n', 'Bob Dylan\\n', 'Roy Orbison\\n', 'Dionne Warwick\\n', 'James Brown\\n', 'The Beach Boys\\n', 'Stevie Wonder\\n', 'Eddie Cochran\\n', 'Led Zeppelin\\n', 'The Beatles\\n', 'Elvis Presley\\n', 'James Brown\\n', 'The Byrds\\n', 'The Kinks\\n', 'Marvin Gaye\\n', 'Fats Domino\\n', 'The Beatles\\n', 'The Police\\n', 'Patsy Cline\\n', 'Bruce Springsteen\\n', 'Johnny Cash\\n', 'The Temptations\\n', 'The Mamas and the Papas\\n', 'The Five Satins\\n', 'Elvis Presley\\n', 'Ramones\\n', 'U2\\n', 'Little Richard\\n', 'Carl Perkins\\n', 'Jerry Lee Lewis\\n', 'Chuck Berry\\n', 'Al Green\\n', 'Creedence Clearwater Revival\\n', 'Gnarls Barkley\\n', 'The Rolling Stones\\n']\n"
     ]
    },
    {
     "data": {
      "text/plain": [
       "101"
      ]
     },
     "execution_count": 8,
     "metadata": {},
     "output_type": "execute_result"
    }
   ],
   "source": [
    "singer = []\n",
    "num = len(soup.select(\"td:nth-child(4)\"))\n",
    "for i in range(num):\n",
    "    singer.append(soup.select(\"td:nth-child(4)\")[i].get_text())\n",
    "print(singer)\n",
    "len(singer)"
   ]
  },
  {
   "cell_type": "code",
   "execution_count": 26,
   "id": "8774e892",
   "metadata": {},
   "outputs": [],
   "source": [
    "rstone = pd.DataFrame({\"title\":titles,\n",
    "                       \"singer\":singer,\n",
    "                      })"
   ]
  },
  {
   "cell_type": "code",
   "execution_count": 29,
   "id": "2207dfed",
   "metadata": {},
   "outputs": [],
   "source": [
    "for column in rstone:\n",
    "        rstone[column] = rstone[column].str.replace('\\n', \"\")"
   ]
  },
  {
   "cell_type": "code",
   "execution_count": 30,
   "id": "9d280856",
   "metadata": {},
   "outputs": [
    {
     "data": {
      "text/html": [
       "<div>\n",
       "<style scoped>\n",
       "    .dataframe tbody tr th:only-of-type {\n",
       "        vertical-align: middle;\n",
       "    }\n",
       "\n",
       "    .dataframe tbody tr th {\n",
       "        vertical-align: top;\n",
       "    }\n",
       "\n",
       "    .dataframe thead th {\n",
       "        text-align: right;\n",
       "    }\n",
       "</style>\n",
       "<table border=\"1\" class=\"dataframe\">\n",
       "  <thead>\n",
       "    <tr style=\"text-align: right;\">\n",
       "      <th></th>\n",
       "      <th>title</th>\n",
       "      <th>singer</th>\n",
       "    </tr>\n",
       "  </thead>\n",
       "  <tbody>\n",
       "    <tr>\n",
       "      <th>0</th>\n",
       "      <td>Like a Rolling Stone</td>\n",
       "      <td>Bob Dylan</td>\n",
       "    </tr>\n",
       "    <tr>\n",
       "      <th>1</th>\n",
       "      <td>(I Can’t Get No) Satisfaction</td>\n",
       "      <td>The Rolling Stones</td>\n",
       "    </tr>\n",
       "    <tr>\n",
       "      <th>2</th>\n",
       "      <td>Imagine</td>\n",
       "      <td>John Lennon</td>\n",
       "    </tr>\n",
       "    <tr>\n",
       "      <th>3</th>\n",
       "      <td>What’s Going On</td>\n",
       "      <td>Marvin Gaye</td>\n",
       "    </tr>\n",
       "    <tr>\n",
       "      <th>4</th>\n",
       "      <td>Respect</td>\n",
       "      <td>Aretha Franklin</td>\n",
       "    </tr>\n",
       "    <tr>\n",
       "      <th>...</th>\n",
       "      <td>...</td>\n",
       "      <td>...</td>\n",
       "    </tr>\n",
       "    <tr>\n",
       "      <th>96</th>\n",
       "      <td>Roll Over Beethoven</td>\n",
       "      <td>Chuck Berry</td>\n",
       "    </tr>\n",
       "    <tr>\n",
       "      <th>97</th>\n",
       "      <td>Love and Happiness</td>\n",
       "      <td>Al Green</td>\n",
       "    </tr>\n",
       "    <tr>\n",
       "      <th>98</th>\n",
       "      <td>Fortunate Son</td>\n",
       "      <td>Creedence Clearwater Revival</td>\n",
       "    </tr>\n",
       "    <tr>\n",
       "      <th>99</th>\n",
       "      <td>Crazy</td>\n",
       "      <td>Gnarls Barkley</td>\n",
       "    </tr>\n",
       "    <tr>\n",
       "      <th>100</th>\n",
       "      <td>You Can’t Always Get What You Want</td>\n",
       "      <td>The Rolling Stones</td>\n",
       "    </tr>\n",
       "  </tbody>\n",
       "</table>\n",
       "<p>101 rows × 2 columns</p>\n",
       "</div>"
      ],
      "text/plain": [
       "                                  title                        singer\n",
       "0                  Like a Rolling Stone                     Bob Dylan\n",
       "1         (I Can’t Get No) Satisfaction            The Rolling Stones\n",
       "2                               Imagine                   John Lennon\n",
       "3                       What’s Going On                   Marvin Gaye\n",
       "4                               Respect               Aretha Franklin\n",
       "..                                  ...                           ...\n",
       "96                  Roll Over Beethoven                   Chuck Berry\n",
       "97                   Love and Happiness                      Al Green\n",
       "98                        Fortunate Son  Creedence Clearwater Revival\n",
       "99                                Crazy                Gnarls Barkley\n",
       "100  You Can’t Always Get What You Want            The Rolling Stones\n",
       "\n",
       "[101 rows x 2 columns]"
      ]
     },
     "execution_count": 30,
     "metadata": {},
     "output_type": "execute_result"
    }
   ],
   "source": [
    "rstone"
   ]
  },
  {
   "cell_type": "markdown",
   "id": "5577b074",
   "metadata": {},
   "source": [
    "## Practice web scraping"
   ]
  },
  {
   "cell_type": "markdown",
   "id": "a0f6590c",
   "metadata": {},
   "source": [
    "As you've seen, scraping the internet is a skill that can get you all sorts of information. Here are some little challenges that you can try to gain more experience in the field:"
   ]
  },
  {
   "cell_type": "markdown",
   "id": "c0606bbc",
   "metadata": {},
   "source": [
    "1. Retrieve an arbitrary Wikipedia page of \"Python\" and create a list of links on that page: url ='https://en.wikipedia.org/wiki/Python'"
   ]
  },
  {
   "cell_type": "code",
   "execution_count": 35,
   "id": "3e82e516",
   "metadata": {},
   "outputs": [],
   "source": [
    "url = 'https://en.wikipedia.org/wiki/Python'"
   ]
  },
  {
   "cell_type": "code",
   "execution_count": 36,
   "id": "54f8c56d",
   "metadata": {},
   "outputs": [
    {
     "data": {
      "text/plain": [
       "200"
      ]
     },
     "execution_count": 36,
     "metadata": {},
     "output_type": "execute_result"
    }
   ],
   "source": [
    "response = requests.get(url)\n",
    "response.status_code"
   ]
  },
  {
   "cell_type": "code",
   "execution_count": 60,
   "id": "a53effb3",
   "metadata": {},
   "outputs": [],
   "source": [
    "python = BeautifulSoup(response.content, \"html.parser\")"
   ]
  },
  {
   "cell_type": "code",
   "execution_count": 95,
   "id": "474320d4",
   "metadata": {},
   "outputs": [],
   "source": [
    "#python"
   ]
  },
  {
   "cell_type": "code",
   "execution_count": 96,
   "id": "47bd164d",
   "metadata": {},
   "outputs": [
    {
     "data": {
      "text/plain": [
       "[<a href=\"/wiki/Pythonidae\" title=\"Pythonidae\">Pythonidae</a>,\n",
       " <a href=\"/wiki/Python_(mythology)\" title=\"Python (mythology)\">Python (mythology)</a>,\n",
       " <a href=\"/wiki/Python_(programming_language)\" title=\"Python (programming language)\">Python (programming language)</a>,\n",
       " <a href=\"/wiki/CMU_Common_Lisp\" title=\"CMU Common Lisp\">CMU Common Lisp</a>,\n",
       " <a href=\"/wiki/PERQ#PERQ_3\" title=\"PERQ\">PERQ 3</a>,\n",
       " <a href=\"/wiki/Python_of_Aenus\" title=\"Python of Aenus\">Python of Aenus</a>,\n",
       " <a href=\"/wiki/Python_(painter)\" title=\"Python (painter)\">Python (painter)</a>,\n",
       " <a href=\"/wiki/Python_of_Byzantium\" title=\"Python of Byzantium\">Python of Byzantium</a>,\n",
       " <a href=\"/wiki/Python_of_Catana\" title=\"Python of Catana\">Python of Catana</a>,\n",
       " <a href=\"/wiki/Python_Anghelo\" title=\"Python Anghelo\">Python Anghelo</a>,\n",
       " <a href=\"/wiki/Python_(Efteling)\" title=\"Python (Efteling)\">Python (Efteling)</a>,\n",
       " <a href=\"/wiki/Python_(Busch_Gardens_Tampa_Bay)\" title=\"Python (Busch Gardens Tampa Bay)\">Python (Busch Gardens Tampa Bay)</a>,\n",
       " <a href=\"/wiki/Python_(Coney_Island,_Cincinnati,_Ohio)\" title=\"Python (Coney Island, Cincinnati, Ohio)\">Python (Coney Island, Cincinnati, Ohio)</a>,\n",
       " <a href=\"/wiki/Python_(automobile_maker)\" title=\"Python (automobile maker)\">Python (automobile maker)</a>,\n",
       " <a href=\"/wiki/Python_(Ford_prototype)\" title=\"Python (Ford prototype)\">Python (Ford prototype)</a>,\n",
       " <a href=\"/wiki/Python_(missile)\" title=\"Python (missile)\">Python (missile)</a>,\n",
       " <a href=\"/wiki/Python_(nuclear_primary)\" title=\"Python (nuclear primary)\">Python (nuclear primary)</a>,\n",
       " <a href=\"/wiki/Colt_Python\" title=\"Colt Python\">Colt Python</a>,\n",
       " <a href=\"/wiki/PYTHON\" title=\"PYTHON\">PYTHON</a>,\n",
       " <a href=\"/wiki/Python_(film)\" title=\"Python (film)\"><i>Python</i> (film)</a>,\n",
       " <a href=\"/wiki/Monty_Python\" title=\"Monty Python\">Monty Python</a>,\n",
       " <a href=\"/wiki/Timon_of_Phlius\" title=\"Timon of Phlius\">Timon of Phlius</a>,\n",
       " <a href=\"/wiki/Cython\" title=\"Cython\">Cython</a>,\n",
       " <a href=\"/wiki/Pithon\" title=\"Pithon\">Pithon</a>]"
      ]
     },
     "execution_count": 96,
     "metadata": {},
     "output_type": "execute_result"
    }
   ],
   "source": [
    "python.select(\"#mw-content-text > div.mw-parser-output > ul > li > a\")"
   ]
  },
  {
   "cell_type": "code",
   "execution_count": 97,
   "id": "fdc0fd6e",
   "metadata": {},
   "outputs": [
    {
     "name": "stdout",
     "output_type": "stream",
     "text": [
      "/wiki/Pythonidae\n",
      "/wiki/Python_(mythology)\n",
      "/wiki/Python_(programming_language)\n",
      "/wiki/CMU_Common_Lisp\n",
      "/wiki/PERQ#PERQ_3\n",
      "/wiki/Python_of_Aenus\n",
      "/wiki/Python_(painter)\n",
      "/wiki/Python_of_Byzantium\n",
      "/wiki/Python_of_Catana\n",
      "/wiki/Python_Anghelo\n",
      "/wiki/Python_(Efteling)\n",
      "/wiki/Python_(Busch_Gardens_Tampa_Bay)\n",
      "/wiki/Python_(Coney_Island,_Cincinnati,_Ohio)\n",
      "/wiki/Python_(automobile_maker)\n",
      "/wiki/Python_(Ford_prototype)\n",
      "/wiki/Python_(missile)\n",
      "/wiki/Python_(nuclear_primary)\n",
      "/wiki/Colt_Python\n",
      "/wiki/PYTHON\n",
      "/wiki/Python_(film)\n",
      "/wiki/Monty_Python\n",
      "/wiki/Timon_of_Phlius\n",
      "/wiki/Cython\n",
      "/wiki/Pithon\n"
     ]
    }
   ],
   "source": [
    "for link in python.select(\"div.mw-parser-output > ul > li > a\"):\n",
    "    print(link['href'])"
   ]
  },
  {
   "cell_type": "markdown",
   "id": "be6b8510",
   "metadata": {},
   "source": [
    "2. Find the number of titles that have changed in the United States Code since its last release point: url = 'http://uscode.house.gov/download/download.shtml'"
   ]
  },
  {
   "cell_type": "code",
   "execution_count": 118,
   "id": "81e8f99c",
   "metadata": {},
   "outputs": [],
   "source": [
    "url = 'http://uscode.house.gov/download/download.shtml'\n",
    "\n",
    "response = requests.get(url)\n",
    "response.status_code\n",
    "\n",
    "code = BeautifulSoup(response.content, \"html.parser\")"
   ]
  },
  {
   "cell_type": "code",
   "execution_count": 122,
   "id": "b1b1206a",
   "metadata": {},
   "outputs": [
    {
     "data": {
      "text/plain": [
       "[<div class=\"usctitlechanged\" id=\"us/usc/t16\">\n",
       " \n",
       "           Title 16 - Conservation\n",
       " \n",
       "         </div>]"
      ]
     },
     "execution_count": 122,
     "metadata": {},
     "output_type": "execute_result"
    }
   ],
   "source": [
    "code.select(\"div.usctitlechanged\")\n",
    "#code.findAll(class_=\"usctitlechanged\")"
   ]
  },
  {
   "cell_type": "markdown",
   "id": "a307e8c3",
   "metadata": {},
   "source": [
    "3. Create a Python list with the top ten FBI's Most Wanted names: url = 'https://www.fbi.gov/wanted/topten'"
   ]
  },
  {
   "cell_type": "code",
   "execution_count": 126,
   "id": "95750cc1",
   "metadata": {},
   "outputs": [],
   "source": [
    "url = 'https://www.fbi.gov/wanted/topten'\n",
    "\n",
    "response = requests.get(url)\n",
    "response.status_code\n",
    "\n",
    "names = BeautifulSoup(response.content, \"html.parser\")"
   ]
  },
  {
   "cell_type": "code",
   "execution_count": 130,
   "id": "6d368b76",
   "metadata": {},
   "outputs": [
    {
     "data": {
      "text/plain": [
       "[<a href=\"https://www.fbi.gov/wanted/topten/jason-derek-brown\">JASON DEREK BROWN</a>,\n",
       " <a href=\"https://www.fbi.gov/wanted/topten/alexis-flores\">ALEXIS FLORES</a>,\n",
       " <a href=\"https://www.fbi.gov/wanted/topten/jose-rodolfo-villarreal-hernandez\">JOSE RODOLFO VILLARREAL-HERNANDEZ</a>,\n",
       " <a href=\"https://www.fbi.gov/wanted/topten/rafael-caro-quintero\">RAFAEL CARO-QUINTERO</a>,\n",
       " <a href=\"https://www.fbi.gov/wanted/topten/yulan-adonay-archaga-carias\">YULAN ADONAY ARCHAGA CARIAS</a>,\n",
       " <a href=\"https://www.fbi.gov/wanted/topten/eugene-palmer\">EUGENE PALMER</a>,\n",
       " <a href=\"https://www.fbi.gov/wanted/topten/bhadreshkumar-chetanbhai-patel\">BHADRESHKUMAR CHETANBHAI PATEL</a>,\n",
       " <a href=\"https://www.fbi.gov/wanted/topten/alejandro-castillo\">ALEJANDRO ROSALES CASTILLO</a>,\n",
       " <a href=\"https://www.fbi.gov/wanted/topten/arnoldo-jimenez\">ARNOLDO JIMENEZ</a>,\n",
       " <a href=\"https://www.fbi.gov/wanted/topten/octaviano-juarez-corro\">OCTAVIANO JUAREZ-CORRO</a>]"
      ]
     },
     "execution_count": 130,
     "metadata": {},
     "output_type": "execute_result"
    }
   ],
   "source": [
    "names.select(\"ul > li > h3 > a\")"
   ]
  },
  {
   "cell_type": "code",
   "execution_count": 137,
   "id": "757a2e8e",
   "metadata": {},
   "outputs": [
    {
     "name": "stdout",
     "output_type": "stream",
     "text": [
      "['JASON DEREK BROWN', 'ALEXIS FLORES', 'JOSE RODOLFO VILLARREAL-HERNANDEZ', 'RAFAEL CARO-QUINTERO', 'YULAN ADONAY ARCHAGA CARIAS', 'EUGENE PALMER', 'BHADRESHKUMAR CHETANBHAI PATEL', 'ALEJANDRO ROSALES CASTILLO', 'ARNOLDO JIMENEZ', 'OCTAVIANO JUAREZ-CORRO']\n"
     ]
    }
   ],
   "source": [
    "fbi = []\n",
    "\n",
    "for i in range(10):\n",
    "    fbi.append(names.select(\"ul > li > h3 > a\")[i].get_text())\n",
    "print(fbi)"
   ]
  },
  {
   "cell_type": "markdown",
   "id": "c035f290",
   "metadata": {},
   "source": [
    "4. Display the 20 latest earthquakes info (date, time, latitude, longitude and region name) by the EMSC as a pandas dataframe: url = 'https://www.emsc-csem.org/Earthquake/'\n"
   ]
  },
  {
   "cell_type": "code",
   "execution_count": 138,
   "id": "8a962770",
   "metadata": {},
   "outputs": [],
   "source": [
    "url = 'https://www.emsc-csem.org/Earthquake/'"
   ]
  },
  {
   "cell_type": "code",
   "execution_count": 139,
   "id": "5aa52042",
   "metadata": {},
   "outputs": [
    {
     "data": {
      "text/plain": [
       "200"
      ]
     },
     "execution_count": 139,
     "metadata": {},
     "output_type": "execute_result"
    }
   ],
   "source": [
    "response = requests.get(url)\n",
    "response.status_code"
   ]
  },
  {
   "cell_type": "code",
   "execution_count": 141,
   "id": "084ecf1c",
   "metadata": {},
   "outputs": [],
   "source": [
    "earth = BeautifulSoup(response.content, \"html.parser\")"
   ]
  },
  {
   "cell_type": "code",
   "execution_count": 182,
   "id": "2a16d9b6",
   "metadata": {},
   "outputs": [
    {
     "data": {
      "text/plain": [
       "[<td class=\"ban1\" onclick=\"window.location.href='https://www.emsc-csem.org';\" onmouseover=\"this.style.cursor='pointer';\">\n",
       " <img alt=\"logo - home\" src=\"https://static2.emsc.eu/Css/img/logo.png\" style=\"width:150px;height:81px;\"/></td>,\n",
       " <td class=\"ban2 ban022\" onclick=\"window.location.href='https://www.emsc-csem.org';\" onmouseover=\"this.style.cursor='pointer';\">\n",
       " <div style=\"border:0; position:relative; float:right; width:110px; height:80px; margin-top:-5px; margin-right:25px; \">\n",
       " <div id=\"androidstore\" style=\"border:0; position:relative; float:left; width:110px; height:35px;\"></div>\n",
       " <div id=\"iosstore\" style=\"border:0; position:relative; float:left; width:110px; height:35px; margin-top:8px;\"></div>\n",
       " </div>\n",
       " <script type=\"text/javascript\">set_server_date(2022,5,2,18,10,3)</script>\n",
       " <div id=\"ejs_server_heure\">Current time: 2022-05-02 18:10:03 UTC</div>\n",
       " </td>,\n",
       " <td align=\"right\" class=\"ban3 ban022\"><div class=\"login_box\" id=\"login_box\"><form action=\"https://www.emsc-csem.org/Member/\" enctype=\"multipart/form-data\" method=\"post\">\n",
       " <table cellpadding=\"0\" cellspacing=\"0\" style=\"width:100%;height:100%;border:0;\"><tr><td colspan=\"2\" style=\"text-align: center; font-size: 11px; font-weight: bold; color: #fff;\">\n",
       " <span class=\"spriteorig sp_lock vbottom\"></span> Member access</td></tr><tr><td colspan=\"2\" style=\"height: 2px;text-align:center;\">\n",
       " <img alt=\"\" src=\"data:image/png;base64,iVBORw0KGgoAAAANSUhEUgAAAAEAAAABCAQAAAC1HAwCAAAABGdBTUEAALGPC/xhBQAAAAtJREFUCNdjYGAAAAADAAEg1ZTHAAAAAElFTkSuQmCC\" style=\"display: block;width:1px;border:0;height:2px;\"/></td></tr>\n",
       " <tr><td style=\"font-size: 11px; font-weight: bold; text-align: left; color: #000;\">Name </td>\n",
       " <td style=\"text-align:left;\"><input maxlength=\"10\" name=\"login\" size=\"8\" style=\"height: 11px; width: 80px; font-size: 11px;\" type=\"text\"/></td></tr>\n",
       " <tr><td colspan=\"2\" style=\"height: 2px;text-align:center;\"><img alt=\"\" src=\"data:image/png;base64,iVBORw0KGgoAAAANSUhEUgAAAAEAAAABCAQAAAC1HAwCAAAABGdBTUEAALGPC/xhBQAAAAtJREFUCNdjYGAAAAADAAEg1ZTHAAAAAElFTkSuQmCC\" style=\"display: block;width:1px; border:0;height:2px;\"/></td></tr>\n",
       " <tr><td style=\"font-size: 11px; font-weight: bold; text-align: left; color: #000;\">Pwd</td>\n",
       " <td style=\"text-align:left;\"><input maxlength=\"32\" name=\"pwd\" size=\"8\" style=\"height: 11px; width: 80px; font-size: 11px;\" type=\"password\"/></td></tr>\n",
       " <tr><td colspan=\"2\" style=\"height: 2px;text-align:center;\"><img alt=\"\" src=\"data:image/png;base64,iVBORw0KGgoAAAANSUhEUgAAAAEAAAABCAQAAAC1HAwCAAAABGdBTUEAALGPC/xhBQAAAAtJREFUCNdjYGAAAAADAAEg1ZTHAAAAAElFTkSuQmCC\" style=\"display: block;width:1px;border:0;height:2px;\"/></td>\n",
       " </tr><tr><td> </td><td style=\"text-align:left;\"><input style=\"height: 20px; font-size: 11px;\" type=\"submit\" value=\"Sign in\"/></td></tr></table></form></div></td>,\n",
       " <td colspan=\"2\" style=\"text-align: center; font-size: 11px; font-weight: bold; color: #fff;\">\n",
       " <span class=\"spriteorig sp_lock vbottom\"></span> Member access</td>,\n",
       " <td colspan=\"2\" style=\"height: 2px;text-align:center;\">\n",
       " <img alt=\"\" src=\"data:image/png;base64,iVBORw0KGgoAAAANSUhEUgAAAAEAAAABCAQAAAC1HAwCAAAABGdBTUEAALGPC/xhBQAAAAtJREFUCNdjYGAAAAADAAEg1ZTHAAAAAElFTkSuQmCC\" style=\"display: block;width:1px;border:0;height:2px;\"/></td>,\n",
       " <td style=\"font-size: 11px; font-weight: bold; text-align: left; color: #000;\">Name </td>,\n",
       " <td style=\"text-align:left;\"><input maxlength=\"10\" name=\"login\" size=\"8\" style=\"height: 11px; width: 80px; font-size: 11px;\" type=\"text\"/></td>,\n",
       " <td colspan=\"2\" style=\"height: 2px;text-align:center;\"><img alt=\"\" src=\"data:image/png;base64,iVBORw0KGgoAAAANSUhEUgAAAAEAAAABCAQAAAC1HAwCAAAABGdBTUEAALGPC/xhBQAAAAtJREFUCNdjYGAAAAADAAEg1ZTHAAAAAElFTkSuQmCC\" style=\"display: block;width:1px; border:0;height:2px;\"/></td>,\n",
       " <td style=\"font-size: 11px; font-weight: bold; text-align: left; color: #000;\">Pwd</td>,\n",
       " <td style=\"text-align:left;\"><input maxlength=\"32\" name=\"pwd\" size=\"8\" style=\"height: 11px; width: 80px; font-size: 11px;\" type=\"password\"/></td>,\n",
       " <td colspan=\"2\" style=\"height: 2px;text-align:center;\"><img alt=\"\" src=\"data:image/png;base64,iVBORw0KGgoAAAANSUhEUgAAAAEAAAABCAQAAAC1HAwCAAAABGdBTUEAALGPC/xhBQAAAAtJREFUCNdjYGAAAAADAAEg1ZTHAAAAAElFTkSuQmCC\" style=\"display: block;width:1px;border:0;height:2px;\"/></td>,\n",
       " <td> </td>,\n",
       " <td style=\"text-align:left;\"><input style=\"height: 20px; font-size: 11px;\" type=\"submit\" value=\"Sign in\"/></td>,\n",
       " <td><span class=\"spriteorig sp_info\"></span> - Sorting by column is performed on the data of the current page.</td>,\n",
       " <td style=\"text-align:right;\"><a href=\"/glossary.php\">Glossary</a></td>,\n",
       " <td colspan=\"13\" style=\"background: white;height: 1px\"></td>,\n",
       " <td><div onclick=\"change_tri('im_report');\" onmouseout=\"change_image(this,'out','im_report');\" onmouseover=\"change_image(this,'over','im_report');\"><span class=\"spriteorig sp_ico_list\" onmouseout=\"info_b2('notshow','');\" onmouseover=\"info_b2('show','Sorted by number of &lt;b&gt;Comments&lt;/b&gt;');\"></span><span class=\"spriteorig sp_s_asc\" id=\"im_report\" style=\"display:none;\"></span></div></td>,\n",
       " <td><div onclick=\"change_tri('im_pics');\" onmouseout=\"change_image(this,'out','im_pics');\" onmouseover=\"change_image(this,'over','im_pics');\"><span class=\"spriteorig sp_digikam\" onmouseout=\"info_b2('notshow','');\" onmouseover=\"info_b2('show','Sorted by number of &lt;b&gt;Pictures&lt;/b&gt;');\"></span><span class=\"spriteorig sp_s_asc\" id=\"im_pics\" style=\"display:none;\"></span></div></td>,\n",
       " <td><div onclick=\"change_tri('im_intens');\" onmouseout=\"change_image(this,'out','im_intens');\" onmouseover=\"change_image(this,'over','im_intens');\"><span class=\"spriteorig sp_IntensityMap\" onmouseout=\"info_b2('notshow','');\" onmouseover=\"info_b2('show','Sorted by &lt;b&gt;Macroseismic Intensity&lt;/b&gt;');\"></span><span class=\"spriteorig sp_s_asc\" id=\"im_intens\" style=\"display:none;\"></span></div></td>,\n",
       " <td colspan=\"13\" style=\"background: white;height: 1px\"></td>]"
      ]
     },
     "execution_count": 182,
     "metadata": {},
     "output_type": "execute_result"
    }
   ],
   "source": [
    "earth.select(\"tr > td\")\n",
    "\n",
    "#Birthday\n",
    "print(presi_soups[-1][0].select(\"span.bday\")[0].get_text())\n",
    "\n",
    "# #Political party\n",
    "presi_soups[-1][0].select(\"th.infobox-data\")\n",
    "\n",
    "presi_soups[-1][0].find(\"th\", string = \"Political party\").parent.select('a')[0].get_text()\n",
    "\n",
    "\n",
    "# #Number of sons/daughters\n",
    "len(presi_soups[-1][0].find(\"th\", string=\"Children\").parent.find_all(\"li\"))\n",
    " class=\"tabev2\">N  </td><td class=\"tabev1\">15.41 </td><td class=\"tabev2\">E  </td><td class=\"tabev3\">120</td><td class=\"tabev5\" id=\"magtyp0\">ML</td><td class=\"tabev2\">2.3</td><td class=\"tb_region\" id=\"reg0\"> SICILY, ITALY</td><td class=\"comment updatetimeno\" id=\"upd0\" style=\"text-align:right;\">2022-05-02 17:54</td></tr>)"
   ]
  },
  {
   "cell_type": "markdown",
   "id": "e33a8ac8",
   "metadata": {},
   "source": [
    "5. List all language names and number of related articles in the order they appear in wikipedia.org: url = 'https://www.wikipedia.org/'\n"
   ]
  },
  {
   "cell_type": "markdown",
   "id": "64e5f8cc",
   "metadata": {},
   "source": [
    "6. A list with the different kind of datasets available in data.gov.uk: url = 'https://data.gov.uk/'\n"
   ]
  },
  {
   "cell_type": "markdown",
   "id": "ba43b98b",
   "metadata": {},
   "source": [
    "7. Display the top 10 languages by number of native speakers stored in a pandas dataframe: url = 'https://en.wikipedia.org/wiki/List_of_languages_by_number_of_native_speakers'"
   ]
  },
  {
   "cell_type": "code",
   "execution_count": null,
   "id": "d9124fa0",
   "metadata": {},
   "outputs": [],
   "source": []
  },
  {
   "cell_type": "code",
   "execution_count": null,
   "id": "24679f00",
   "metadata": {},
   "outputs": [],
   "source": []
  }
 ],
 "metadata": {
  "kernelspec": {
   "display_name": "Python 3 (ipykernel)",
   "language": "python",
   "name": "python3"
  },
  "language_info": {
   "codemirror_mode": {
    "name": "ipython",
    "version": 3
   },
   "file_extension": ".py",
   "mimetype": "text/x-python",
   "name": "python",
   "nbconvert_exporter": "python",
   "pygments_lexer": "ipython3",
   "version": "3.9.7"
  }
 },
 "nbformat": 4,
 "nbformat_minor": 5
}
