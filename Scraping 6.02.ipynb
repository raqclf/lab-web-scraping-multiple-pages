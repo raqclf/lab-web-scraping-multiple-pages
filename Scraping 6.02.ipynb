{
 "cells": [
  {
   "cell_type": "markdown",
   "id": "04a2152f",
   "metadata": {},
   "source": [
    "#### Find other lists of hot songs on the internet and scrape them too: having a bigger pool of songs will be awesome!\n",
    "#### Apply the same logic to other \"groups\" of songs: the best songs from a decade or from a country / culture / language / genre.\n",
    "#### Wikipedia maintains a large collection of lists of songs: https://en.wikipedia.org/wiki/Lists_of_songs"
   ]
  },
  {
   "cell_type": "code",
   "execution_count": null,
   "id": "994aec2a",
   "metadata": {},
   "outputs": [],
   "source": [
    "from bs4 import BeautifulSoup\n",
    "import requests\n",
    "import pandas as pd\n",
    "import numpy as np"
   ]
  },
  {
   "cell_type": "code",
   "execution_count": null,
   "id": "0f12e0ab",
   "metadata": {},
   "outputs": [],
   "source": [
    "url = \"https://de.wikipedia.org/wiki/Die_500_besten_Songs_aller_Zeiten_(Rolling_Stone)\""
   ]
  },
  {
   "cell_type": "code",
   "execution_count": null,
   "id": "32f9f5e3",
   "metadata": {},
   "outputs": [],
   "source": [
    "response = requests.get(url)\n",
    "response.status_code"
   ]
  },
  {
   "cell_type": "code",
   "execution_count": null,
   "id": "b99f2fd4",
   "metadata": {},
   "outputs": [],
   "source": [
    "soup = BeautifulSoup(response.content, \"html.parser\")"
   ]
  },
  {
   "cell_type": "code",
   "execution_count": null,
   "id": "14bbb4f1",
   "metadata": {},
   "outputs": [],
   "source": [
    "soup.select(\"table\")\n",
    "\n",
    "soup.select(\"td:nth-child(3)\")"
   ]
  },
  {
   "cell_type": "code",
   "execution_count": null,
   "id": "230cfb46",
   "metadata": {},
   "outputs": [],
   "source": [
    "titles = []\n",
    "num = len(soup.select(\"td:nth-child(3)\"))\n",
    "for i in range(num):\n",
    "    titles.append(soup.select(\"td:nth-child(3)\")[i].get_text())\n",
    "print(titles)\n",
    "len(titles)"
   ]
  },
  {
   "cell_type": "code",
   "execution_count": null,
   "id": "672553e7",
   "metadata": {},
   "outputs": [],
   "source": [
    "soup.select(\"td:nth-child(4)\")"
   ]
  },
  {
   "cell_type": "code",
   "execution_count": null,
   "id": "3b173ba3",
   "metadata": {},
   "outputs": [],
   "source": [
    "singer = []\n",
    "num = len(soup.select(\"td:nth-child(4)\"))\n",
    "for i in range(num):\n",
    "    singer.append(soup.select(\"td:nth-child(4)\")[i].get_text())\n",
    "print(singer)\n",
    "len(singer)"
   ]
  },
  {
   "cell_type": "code",
   "execution_count": null,
   "id": "55d0ce86",
   "metadata": {},
   "outputs": [],
   "source": [
    "rstone = pd.DataFrame({\"title\":titles,\n",
    "                       \"singer\":singer,\n",
    "                      })"
   ]
  },
  {
   "cell_type": "code",
   "execution_count": null,
   "id": "58621994",
   "metadata": {},
   "outputs": [],
   "source": [
    "for column in rstone:\n",
    "        rstone[column] = rstone[column].str.replace('\\n', \"\")"
   ]
  },
  {
   "cell_type": "code",
   "execution_count": null,
   "id": "02d7e22f",
   "metadata": {},
   "outputs": [],
   "source": [
    "rstone"
   ]
  },
  {
   "cell_type": "markdown",
   "id": "b568de68",
   "metadata": {},
   "source": [
    "## Beginning GNOD"
   ]
  },
  {
   "cell_type": "code",
   "execution_count": null,
   "id": "48e8b31d",
   "metadata": {},
   "outputs": [],
   "source": [
    "def get_song(hot):\n",
    "    import random\n",
    "    \n",
    "    #turn dataframes values into lower case:\n",
    "    hot_lower = hot.copy()\n",
    "    for column in hot_lower:\n",
    "        hot_lower[column] = hot_lower[column].str.lower()\n",
    "    \n",
    "    #create list of songs and artistis in lower case:\n",
    "    song_list = list(hot_lower['title'])\n",
    "    singer_list = list(hot_lower['singer'])\n",
    "    play = True\n",
    "    \n",
    "    #program loop for using Gnod:\n",
    "    while play:\n",
    "        #Getting an artist or song input in either case format:\n",
    "        value = input(\"Please, enter a song or an artist.\").lower()\n",
    "        if value in song_list or value in singer_list:\n",
    "            print(\"Listen to\", random.choice(hot['title']),\", you'll love it!\")\n",
    "            buttom = input(\"Press Y for more recommendations, press N to quit Gnod.\").upper()\n",
    "            if buttom == 'N':\n",
    "                play = False\n",
    "        else:\n",
    "            print(\"Sorry, we could not find this artist.\")\n",
    "            buttom = input(\"Please, press Y to try again or press N to quit Gnod.\").upper()\n",
    "            if  buttom == 'N':\n",
    "                play = False"
   ]
  },
  {
   "cell_type": "code",
   "execution_count": null,
   "id": "d22eb58b",
   "metadata": {},
   "outputs": [],
   "source": [
    "get_song(rstone)"
   ]
  },
  {
   "cell_type": "markdown",
   "id": "98782694",
   "metadata": {},
   "source": [
    "## Practice web scraping"
   ]
  },
  {
   "cell_type": "markdown",
   "id": "ed705b1c",
   "metadata": {},
   "source": [
    "As you've seen, scraping the internet is a skill that can get you all sorts of information. Here are some little challenges that you can try to gain more experience in the field:"
   ]
  },
  {
   "cell_type": "markdown",
   "id": "8dbee322",
   "metadata": {},
   "source": [
    "1. Retrieve an arbitrary Wikipedia page of \"Python\" and create a list of links on that page: url ='https://en.wikipedia.org/wiki/Python'"
   ]
  },
  {
   "cell_type": "code",
   "execution_count": null,
   "id": "ef72308e",
   "metadata": {},
   "outputs": [],
   "source": [
    "url = 'https://en.wikipedia.org/wiki/Python'"
   ]
  },
  {
   "cell_type": "code",
   "execution_count": null,
   "id": "82c767b4",
   "metadata": {},
   "outputs": [],
   "source": [
    "response = requests.get(url)\n",
    "response.status_code"
   ]
  },
  {
   "cell_type": "code",
   "execution_count": null,
   "id": "b1987c01",
   "metadata": {},
   "outputs": [],
   "source": [
    "python = BeautifulSoup(response.content, \"html.parser\")"
   ]
  },
  {
   "cell_type": "code",
   "execution_count": null,
   "id": "a7599532",
   "metadata": {},
   "outputs": [],
   "source": [
    "#python"
   ]
  },
  {
   "cell_type": "code",
   "execution_count": null,
   "id": "8c3a98cc",
   "metadata": {},
   "outputs": [],
   "source": [
    "python.select(\"#mw-content-text > div.mw-parser-output > ul > li > a\")"
   ]
  },
  {
   "cell_type": "code",
   "execution_count": null,
   "id": "7d88883e",
   "metadata": {},
   "outputs": [],
   "source": [
    "for link in python.select(\"div.mw-parser-output > ul > li > a\"):\n",
    "    print(link['href'])"
   ]
  },
  {
   "cell_type": "markdown",
   "id": "1e2a35cc",
   "metadata": {},
   "source": [
    "2. Find the number of titles that have changed in the United States Code since its last release point: url = 'http://uscode.house.gov/download/download.shtml'"
   ]
  },
  {
   "cell_type": "code",
   "execution_count": null,
   "id": "0cdc581b",
   "metadata": {},
   "outputs": [],
   "source": [
    "url = 'http://uscode.house.gov/download/download.shtml'\n",
    "\n",
    "response = requests.get(url)\n",
    "response.status_code\n",
    "\n",
    "code = BeautifulSoup(response.content, \"html.parser\")"
   ]
  },
  {
   "cell_type": "code",
   "execution_count": null,
   "id": "8bd22700",
   "metadata": {},
   "outputs": [],
   "source": [
    "code.select(\"div.usctitlechanged\")\n",
    "#code.findAll(class_=\"usctitlechanged\")"
   ]
  },
  {
   "cell_type": "markdown",
   "id": "ea20a596",
   "metadata": {},
   "source": [
    "3. Create a Python list with the top ten FBI's Most Wanted names: url = 'https://www.fbi.gov/wanted/topten'"
   ]
  },
  {
   "cell_type": "code",
   "execution_count": null,
   "id": "1ec566c9",
   "metadata": {},
   "outputs": [],
   "source": [
    "url = 'https://www.fbi.gov/wanted/topten'\n",
    "\n",
    "response = requests.get(url)\n",
    "response.status_code\n",
    "\n",
    "names = BeautifulSoup(response.content, \"html.parser\")"
   ]
  },
  {
   "cell_type": "code",
   "execution_count": null,
   "id": "eb5a13b8",
   "metadata": {},
   "outputs": [],
   "source": [
    "names.select(\"ul > li > h3 > a\")"
   ]
  },
  {
   "cell_type": "code",
   "execution_count": null,
   "id": "e9164f0c",
   "metadata": {},
   "outputs": [],
   "source": [
    "fbi = []\n",
    "\n",
    "for i in range(10):\n",
    "    fbi.append(names.select(\"ul > li > h3 > a\")[i].get_text())\n",
    "print(fbi)"
   ]
  },
  {
   "cell_type": "markdown",
   "id": "5bdb87e9",
   "metadata": {},
   "source": [
    "4. Display the 20 latest earthquakes info (date, time, latitude, longitude and region name) by the EMSC as a pandas dataframe: url = 'https://www.emsc-csem.org/Earthquake/'\n"
   ]
  },
  {
   "cell_type": "code",
   "execution_count": null,
   "id": "8919e41e",
   "metadata": {},
   "outputs": [],
   "source": [
    "url = 'https://www.emsc-csem.org/Earthquake/'"
   ]
  },
  {
   "cell_type": "code",
   "execution_count": null,
   "id": "c352296d",
   "metadata": {},
   "outputs": [],
   "source": [
    "response = requests.get(url)\n",
    "response.status_code"
   ]
  },
  {
   "cell_type": "code",
   "execution_count": null,
   "id": "47c76d56",
   "metadata": {},
   "outputs": [],
   "source": [
    "earth = BeautifulSoup(response.content, \"html.parser\")"
   ]
  },
  {
   "cell_type": "code",
   "execution_count": null,
   "id": "b1b6adfe",
   "metadata": {},
   "outputs": [],
   "source": [
    "date_time=[]\n",
    "for i in range(20):\n",
    "    date_time.append(earth.select(\"td.tabev6 > b > a\")[i].get_text())\n",
    "print(date_time)"
   ]
  },
  {
   "cell_type": "code",
   "execution_count": null,
   "id": "9ff22594",
   "metadata": {},
   "outputs": [],
   "source": [
    "date = []\n",
    "time = []\n",
    "\n",
    "for i in date_time:\n",
    "    temp = i.split(\" \")\n",
    "    date.append(temp[0])"
   ]
  },
  {
   "cell_type": "code",
   "execution_count": null,
   "id": "4d9cd62b",
   "metadata": {},
   "outputs": [],
   "source": [
    "    \n",
    "print(date)\n",
    "print(temp)"
   ]
  },
  {
   "cell_type": "code",
   "execution_count": null,
   "id": "26d099cc",
   "metadata": {},
   "outputs": [],
   "source": [
    "director = []\n",
    "star_1 = []\n",
    "star_2 = []\n",
    "\n",
    "for movie in dir_stars:\n",
    "    crew = movie.split(\",\")\n",
    "    director.append(crew[0].replace(\" (dir.)\", \"\"))\n",
    "    star_1.append(crew[1].replace(\" \", \"\"))\n",
    "    star_2.append(crew[2])"
   ]
  },
  {
   "cell_type": "code",
   "execution_count": null,
   "id": "003125dc",
   "metadata": {},
   "outputs": [],
   "source": [
    "\n",
    "latitude = []\n",
    "longitude = []\n",
    "region = []\n",
    "\n",
    "#earth.select(\"td.tabev1\")\n",
    "\n",
    "\n",
    "# #Number of sons/daughters\n",
    "#len(presi_soups[-1][0].find(\"th\", string=\"Children\").parent.find_all(\"li\"))\n",
    "# class=\"tabev2\">N  </td><td class=\"tabev1\">15.41 </td><td class=\"tabev2\">E  </td><td class=\"tabev3\">120</td><td class=\"tabev5\" id=\"magtyp0\">ML</td><td class=\"tabev2\">2.3</td><td class=\"tb_region\" id=\"reg0\"> SICILY, ITALY</td><td class=\"comment updatetimeno\" id=\"upd0\" style=\"text-align:right;\">2022-05-02 17:54</td></tr>)"
   ]
  },
  {
   "cell_type": "markdown",
   "id": "30dec3f0",
   "metadata": {},
   "source": [
    "5. List all language names and number of related articles in the order they appear in wikipedia.org: url = 'https://www.wikipedia.org/'\n"
   ]
  },
  {
   "cell_type": "code",
   "execution_count": null,
   "id": "f9ff71de",
   "metadata": {},
   "outputs": [],
   "source": [
    "url = 'https://www.wikipedia.org/'\n",
    "\n",
    "response = requests.get(url)\n",
    "response.status_code\n",
    "\n",
    "lang = BeautifulSoup(response.content, \"html.parser\")"
   ]
  },
  {
   "cell_type": "code",
   "execution_count": null,
   "id": "b088fa0a",
   "metadata": {},
   "outputs": [],
   "source": [
    "lang.find_all('strong')"
   ]
  },
  {
   "cell_type": "code",
   "execution_count": null,
   "id": "7ef6c4e8",
   "metadata": {},
   "outputs": [],
   "source": [
    "languages= []\n",
    "i= 1\n",
    "\n",
    "while i < 11:\n",
    "    languages.append(lang.find_all('strong')[i].get_text())\n",
    "    i +=1\n"
   ]
  },
  {
   "cell_type": "code",
   "execution_count": null,
   "id": "6dc62eac",
   "metadata": {},
   "outputs": [],
   "source": [
    "languages"
   ]
  },
  {
   "cell_type": "code",
   "execution_count": null,
   "id": "6f0f8b2b",
   "metadata": {},
   "outputs": [],
   "source": [
    "number= []\n",
    "\n",
    "for i in range(10):\n",
    "    number.append(lang.select(\"bdi\")[i].get_text())\n"
   ]
  },
  {
   "cell_type": "code",
   "execution_count": null,
   "id": "2d006560",
   "metadata": {},
   "outputs": [],
   "source": [
    " number"
   ]
  },
  {
   "cell_type": "code",
   "execution_count": null,
   "id": "faca2079",
   "metadata": {},
   "outputs": [],
   "source": [
    "wiki = pd.DataFrame({\"languages\":languages,\n",
    "                       \"articles\":number,\n",
    "                      })"
   ]
  },
  {
   "cell_type": "code",
   "execution_count": null,
   "id": "e5ea3195",
   "metadata": {},
   "outputs": [],
   "source": [
    "for column in wiki:\n",
    "     wiki[column] = wiki[column].str.replace(\"+\" , \"\").str.replace(\"xa\", \"\")"
   ]
  },
  {
   "cell_type": "code",
   "execution_count": null,
   "id": "03858f7b",
   "metadata": {},
   "outputs": [],
   "source": [
    "wiki"
   ]
  },
  {
   "cell_type": "code",
   "execution_count": null,
   "id": "3a16197a",
   "metadata": {},
   "outputs": [],
   "source": [
    "rstone = pd.DataFrame({\"title\":titles,\n",
    "                       \"singer\":singer,\n",
    "                      })"
   ]
  },
  {
   "cell_type": "markdown",
   "id": "289e80e5",
   "metadata": {},
   "source": [
    "6. A list with the different kind of datasets available in data.gov.uk: url = 'https://data.gov.uk/'\n"
   ]
  },
  {
   "cell_type": "code",
   "execution_count": null,
   "id": "0c216d7d",
   "metadata": {},
   "outputs": [],
   "source": [
    "url = 'https://www.fbi.gov/wanted/topten'\n",
    "\n",
    "response = requests.get(url)\n",
    "response.status_code\n",
    "\n",
    "names = BeautifulSoup(response.content, \"html.parser\")"
   ]
  },
  {
   "cell_type": "code",
   "execution_count": null,
   "id": "bbd37328",
   "metadata": {},
   "outputs": [],
   "source": []
  },
  {
   "cell_type": "markdown",
   "id": "4b4403f5",
   "metadata": {},
   "source": [
    "7. Display the top 10 languages by number of native speakers stored in a pandas dataframe: url = 'https://en.wikipedia.org/wiki/List_of_languages_by_number_of_native_speakers'"
   ]
  },
  {
   "cell_type": "code",
   "execution_count": null,
   "id": "0a5137ff",
   "metadata": {},
   "outputs": [],
   "source": [
    "url = 'https://www.fbi.gov/wanted/topten'\n",
    "\n",
    "response = requests.get(url)\n",
    "response.status_code\n",
    "\n",
    "names = BeautifulSoup(response.content, \"html.parser\")"
   ]
  },
  {
   "cell_type": "code",
   "execution_count": null,
   "id": "67ab628b",
   "metadata": {},
   "outputs": [],
   "source": []
  }
 ],
 "metadata": {
  "kernelspec": {
   "display_name": "Python 3 (ipykernel)",
   "language": "python",
   "name": "python3"
  },
  "language_info": {
   "codemirror_mode": {
    "name": "ipython",
    "version": 3
   },
   "file_extension": ".py",
   "mimetype": "text/x-python",
   "name": "python",
   "nbconvert_exporter": "python",
   "pygments_lexer": "ipython3",
   "version": "3.9.7"
  }
 },
 "nbformat": 4,
 "nbformat_minor": 5
}
